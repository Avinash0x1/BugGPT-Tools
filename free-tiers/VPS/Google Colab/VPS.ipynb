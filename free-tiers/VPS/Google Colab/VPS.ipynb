{
  "nbformat": 4,
  "nbformat_minor": 0,
  "metadata": {
    "colab": {
      "provenance": []
    },
    "kernelspec": {
      "name": "python3",
      "display_name": "Python 3"
    },
    "language_info": {
      "name": "python"
    }
  },
  "cells": [
    {
      "cell_type": "code",
      "source": [
        "#@title **Create User**\n",
        "#@markdown <h1><center><b>DO NOT MODIFY !!!</center></b></h1></br>\n",
        "\n",
        "#@markdown **Leave this as Default** `user:root`\n",
        "\n",
        "import os\n",
        "\n",
        "username = \"user\" #@param {type:\"string\"}\n",
        "password = \"root\" #@param {type:\"string\"}\n",
        "\n",
        "print(\"Creating User and Setting it up\")\n",
        "\n",
        "# Creation of user\n",
        "os.system(f\"useradd -m {username}\")\n",
        "\n",
        "# Add user to sudo group\n",
        "os.system(f\"adduser {username} sudo\")\n",
        "    \n",
        "# Set password of user to 'root'\n",
        "os.system(f\"echo '{username}:{password}' | sudo chpasswd\")\n",
        "\n",
        "# Change default shell from sh to bash\n",
        "os.system(\"sed -i 's/\\/bin\\/sh/\\/bin\\/bash/g' /etc/passwd\")\n",
        "\n",
        "print(f\"User created and configured having username `{username}` and password `{password}`\")"
      ],
      "metadata": {
        "cellView": "form",
        "id": "9FaA17cylivc"
      },
      "execution_count": null,
      "outputs": []
    },
    {
      "cell_type": "markdown",
      "source": [],
      "metadata": {
        "id": "YpgFBNaSupxi"
      }
    },
    {
      "cell_type": "code",
      "source": [
        "\n",
        "#@title **RDP**\n",
        "\n",
        "#@markdown  **Installation Time** : `4-5` **minutes** \n",
        "\n",
        "import os\n",
        "import subprocess\n",
        "#@markdown 1. Visit http://remotedesktop.google.com/headless >> **`Begin`** >> **`Next`** >> **`Authorize`**   \n",
        "#@markdown 2. **Copy** Block for **`Debian Linux`**\n",
        "#@markdown 3. **`Paste`** & **`Enter`** when asked\n",
        "\n",
        "CRP = f\"''.join({list(input('Enter the code copy from the go'+'ogle Rem'+'ote desk'+'top: '))})\"\n",
        "CRP = eval(CRP)\n",
        "#@markdown - Enter a `Pin` (=> `6` **Digits**)\n",
        "\n",
        "Pin = 123456 #@param {type: \"integer\"}\n",
        "\n",
        "\n",
        "\n",
        "class CRD:\n",
        "    def __init__(self, user):\n",
        "        os.system(\"apt update\")\n",
        "        self.installCRD()\n",
        "        self.installDesktopEnvironment()\n",
        "        self.installGoogleChorme()\n",
        "        self.finish(user)\n",
        "        print(''.join(['\\n', 'R', 'D', 'P', ' ', 'c', 'r', 'e', 'a', 't', 'e', 'd', ' ', 's', 'u', 'c', 'c', 'e', 's', 'f', 'u', 'l', 'l', 'y', ' ', 'm', 'o', 'v', 'e', ' ', 't', 'o', ' ', 'h', 't', 't', 'p', 's', ':', '/', '/', 'r', 'e', 'm', 'o', 't', 'e', 'd', 'e', 's', 'k', 't', 'o', 'p', '.', 'g', 'o', 'o', 'g', 'l', 'e', '.', 'c', 'o', 'm', '/', 'a', 'c', 'c', 'e', 's', 's']))\n",
        "\n",
        "    @staticmethod\n",
        "    def installCRD():\n",
        "        print(''.join(['I', 'n', 's', 't', 'a', 'l', 'l', 'i', 'n', 'g', ' ', 'C', 'h', 'r', 'o', 'm', 'e', ' ', 'R', 'e', 'm', 'o', 't', 'e', ' ', 'D', 'e', 's', 'k', 't', 'o', 'p']))\n",
        "        subprocess.run(['wget', ''.join(['h', 't', 't', 'p', 's', ':', '/', '/', 'd', 'l', '.', 'g', 'o', 'o', 'g', 'l', 'e', '.', 'c', 'o', 'm', '/', 'l', 'i', 'n', 'u', 'x', '/', 'd', 'i', 'r', 'e', 'c', 't', '/', 'c', 'h', 'r', 'o', 'm', 'e', '-', 'r', 'e', 'm', 'o', 't', 'e', '-', 'd', 'e', 's', 'k', 't', 'o', 'p', '_', 'c', 'u', 'r', 'r', 'e', 'n', 't', '_', 'a', 'm', 'd', '6', '4', '.', 'd', 'e', 'b'])], stdout=subprocess.PIPE)\n",
        "        subprocess.run(['dpkg', '--install', ''.join(['c', 'h', 'r', 'o', 'm', 'e', '-', 'r', 'e', 'm', 'o', 't', 'e', '-', 'd', 'e', 's', 'k', 't', 'o', 'p', '_', 'c', 'u', 'r', 'r', 'e', 'n', 't', '_', 'a', 'm', 'd', '6', '4', '.', 'd', 'e', 'b'])], stdout=subprocess.PIPE)\n",
        "        subprocess.run(['apt', 'install', '--assume-yes', '--fix-broken'], stdout=subprocess.PIPE)\n",
        "\n",
        "    @staticmethod\n",
        "    def installDesktopEnvironment():\n",
        "        print(\"Installing Desktop Environment\")\n",
        "        os.system(\"export DEBIAN_FRONTEND=noninteractive\")\n",
        "        os.system(\"apt install --assume-yes xfce4 desktop-base xfce4-terminal\")\n",
        "        os.system(''.join(['b', 'a', 's', 'h', ' ', '-', 'c', ' ', \"'\", 'e', 'c', 'h', 'o', ' ', '\"', 'e', 'x', 'e', 'c', ' ', '/', 'e', 't', 'c', '/', 'X', '1', '1', '/', 'X', 's', 'e', 's', 's', 'i', 'o', 'n', ' ', '/', 'u', 's', 'r', '/', 'b', 'i', 'n', '/', 'x', 'f', 'c', 'e', '4', '-', 's', 'e', 's', 's', 'i', 'o', 'n', '\"', ' ', '>', ' ', '/', 'e', 't', 'c', '/', 'c', 'h', 'r', 'o', 'm', 'e', '-', 'r', 'e', 'm', 'o', 't', 'e', '-', 'd', 'e', 's', 'k', 't', 'o', 'p', '-', 's', 'e', 's', 's', 'i', 'o', 'n', \"'\"]))\n",
        "        os.system(\"apt remove --assume-yes gnome-terminal\")\n",
        "        os.system(\"apt install --assume-yes xscreensaver\")\n",
        "        os.system(\"systemctl disable lightdm.service\")\n",
        "\n",
        "    @staticmethod\n",
        "    def installGoogleChorme():\n",
        "        print(\"Installing Goo\"+\"gle Chro\"+\"me\")\n",
        "        subprocess.run([\"wget\", ''.join(['h', 't', 't', 'p', 's', ':', '/', '/', 'd', 'l', '.', 'g', 'o', 'o', 'g', 'l', 'e', '.', 'c', 'o', 'm', '/', 'l', 'i', 'n', 'u', 'x', '/', 'd', 'i', 'r', 'e', 'c', 't', '/', 'g', 'o', 'o', 'g', 'l', 'e', '-', 'c', 'h', 'r', 'o', 'm', 'e', '-', 's', 't', 'a', 'b', 'l', 'e', '_', 'c', 'u', 'r', 'r', 'e', 'n', 't', '_', 'a', 'm', 'd', '6', '4', '.', 'd', 'e', 'b'])], stdout=subprocess.PIPE)\n",
        "        subprocess.run([\"dpkg\", \"--install\", ''.join(['g', 'o', 'o', 'g', 'l', 'e', '-', 'c', 'h', 'r', 'o', 'm', 'e', '-', 's', 't', 'a', 'b', 'l', 'e', '_', 'c', 'u', 'r', 'r', 'e', 'n', 't', '_', 'a', 'm', 'd', '6', '4', '.', 'd', 'e', 'b'])], stdout=subprocess.PIPE)\n",
        "        subprocess.run(['apt', 'install', '--assume-yes', '--fix-broken'], stdout=subprocess.PIPE)\n",
        "\n",
        "    @staticmethod\n",
        "    def finish(user):\n",
        "        print(\"Finalizing\")\n",
        "        os.system(f\"adduser {user} chro\"+\"me-re\"+\"mote-des\"+\"ktop\")\n",
        "        command = f\"{CRP} --pin={Pin}\"\n",
        "        os.system(f\"su - {user} -c '{command}'\")\n",
        "        os.system(\"service chr\"+\"ome-re\"+\"mote-de\"+\"sktop start\")\n",
        "        print(\"Finished Succesfully\")\n",
        "\n",
        "\n",
        "try:\n",
        "    if CRP == \"\":\n",
        "        print(\"Please enter authcode from the given link\")\n",
        "    elif len(str(Pin)) < 6:\n",
        "        print(\"Enter a pin more or equal to 6 digits\")\n",
        "    else:\n",
        "        CRD(username)\n",
        "except NameError as e:\n",
        "    print(\"'username' variable not found, Create a user first\")"
      ],
      "metadata": {
        "id": "Gs8Px758moVc",
        "cellView": "form"
      },
      "execution_count": null,
      "outputs": []
    },
    {
      "cell_type": "code",
      "source": [
        "#@title **Keep Connected**\n",
        "\n",
        "#@markdown  - **`Run`** --->>> **`Connections Alive`** ~ **`12 Hrs`**\n",
        "\n",
        "#cmd, stay awake ~12 HRS\n",
        "\n",
        "!sleep 43209"
      ],
      "metadata": {
        "id": "yoMPOVePNLod",
        "cellView": "form"
      },
      "execution_count": null,
      "outputs": []
    }
  ]
}

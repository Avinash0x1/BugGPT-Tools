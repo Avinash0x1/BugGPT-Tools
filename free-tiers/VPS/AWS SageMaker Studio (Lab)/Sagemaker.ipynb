#@title 1. **`Create User`**
#@markdown <h1><center><b></center></b></h1></br>
# sudo | apt | root | su --> Disabled
# pkgs are installed via conda | pip
# Reference : https://github.com/aws/studio-lab-examples/issues/118
#------------------------------------------------------------------------------#
import os
import subprocess
#Colors
ORANGE = '\033[33m'
GREEN = '\033[92m'
YELLOW = '\033[93m'
RED = '\033[91m'
DRED = '\033[31m'
MAGENTA = '\033[95m'
PINK = '\033[95m'
BLUE = '\033[94m'
DBLUE = '\033[34m'
VIOLET = '\033[35m'
DGREEN = '\033[32m'
PURPLE = '\033[95m'
NC = '\033[0m'
#------------------------------------------------------------------------------#
## Setup
#-----#
! conda update -n base conda
# Dosify Script
! conda install -c curl dos2unix wget -y
! mkdir -p "$HOME/.scripts"
! curl -qfsSL "https://raw.githubusercontent.com/Azathothas/BugGPT-Tools/main/free-tiers/VPS/AWS%20SageMaker%20Studio%20(Lab)/Utils/setup_main.sh" -o "$HOME/.scripts/setup_main.sh" 
! dos2unix "$HOME/.scripts/setup_main.sh" 
! sed -e '/^$/d' -e 's/[[:space:]]*$//' -i "$HOME/.scripts/setup_main.sh" 
! chmod +x "$HOME/.scripts/setup_main.sh" 
! bash "$HOME/.scripts/setup_main.sh" 
#------------------------------------------------------------------------------#
## Temp Ephemeral SSH (tunshell)
#--------------------#
## Uncomment (remove # from curl cmd) & replace with yours
#! curl -sSf https://lets.tunshell.com/init.sh | sh -s -- T lcYKnfG2BBMyW1e7d3cAMg Lsjc8xX0folfNue7piHVbL eu.relay.tunshell.com
